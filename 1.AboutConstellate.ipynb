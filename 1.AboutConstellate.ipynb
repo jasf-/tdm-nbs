{
 "cells": [
  {
   "cell_type": "markdown",
   "metadata": {},
   "source": [
    "## About Constellate"
   ]
  },
  {
   "cell_type": "markdown",
   "metadata": {},
   "source": [
    "We’ll be using some resources created by [ITHAKA](https://ithaka.org/) to create our dataset and run text analysis on it. If you're unfamiliar with ITHAKA, [JSTOR](https://www.jstor.org/), which you probably *have* heard of, is one of their organizations. \n",
    "\n",
    "ITHAKA has created a resource called [Constellate](https://constellate.org) that allows you to build and analyze datasets and perform text analysis on their materials as well as some other datasets. As of this writing, that's more than 32 million documents! They’ve been developing some really useful resources for text analysis, and thanks to Northeastern's partnership with ITHAKA we’re one of the groups that get to experiment with these. \n",
    "\n",
    "What will I be searching?\n",
    "\n",
    "* The text mining platform includes all of JSTOR plus the content from those Portico publishers who choose to participate (currently, 30 publishers including John Wiley & Sons, Inc., Project Muse, Thieme Publishing Group, and Hindawi). \n",
    "\n",
    "* The platform includes additional content from Chronicling America (historic newspapers), DocSouth (materials from and about the American South), Reveal Digital (primary source materials from underrepresented voices), and others. Discussions with more content providers are underway.\n",
    "\n",
    "Note: Since Northeastern has an agreement in place with ITHAKA, we have permission to use these materials."
   ]
  }
 ],
 "metadata": {
  "kernelspec": {
   "display_name": "Python 3",
   "language": "python",
   "name": "python3"
  },
  "language_info": {
   "codemirror_mode": {
    "name": "ipython",
    "version": 3
   },
   "file_extension": ".py",
   "mimetype": "text/x-python",
   "name": "python",
   "nbconvert_exporter": "python",
   "pygments_lexer": "ipython3",
   "version": "3.8.8"
  },
  "toc": {
   "base_numbering": 1,
   "nav_menu": {},
   "number_sections": true,
   "sideBar": true,
   "skip_h1_title": true,
   "title_cell": "Table of Contents",
   "title_sidebar": "Contents",
   "toc_cell": false,
   "toc_position": {},
   "toc_section_display": true,
   "toc_window_display": false
  }
 },
 "nbformat": 4,
 "nbformat_minor": 4
}
