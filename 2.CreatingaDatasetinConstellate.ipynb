{
 "cells": [
  {
   "cell_type": "markdown",
   "metadata": {},
   "source": [
    "## Building a dataset in Constellate for text analysis\n"
   ]
  },
  {
   "cell_type": "markdown",
   "metadata": {},
   "source": [
    "Our first task: because we'll be using their infrastructure, you'll need to **create a JSTOR account if you don't already have one.** If you already have a JSTOR account under your Northeastern email address, you'll want to log into it.\n",
    "\n",
    "You can create a JSTOR account [at this link](https://www.jstor.org/register)\n",
    "<br>\n",
    "<br>\n",
    "\n",
    "<img style=\"margin-left:50px\" src=\"Images/JSTORAcctRegistrationPg.png\" width=\"400px\"/>\n",
    "<br>\n",
    "\n",
    "- Provide your NU email address (this will become your username) and select 'confirm'\n",
    "- Select and confirm your password\n",
    "- Any additional information you'd like to share (role, area of study, etc.) is optional\n",
    "- We suggest you select the checkbox 'keep me logged in'\n",
    "- Select the terms & conditions box and click 'register'\n",
    "      \n",
    "<br>\n",
    "<br>"
   ]
  },
  {
   "cell_type": "markdown",
   "metadata": {},
   "source": [
    "Next, point your browser to <a href=\"http://constellate.org\" target=\"_blank\">Constellate.org.</a> You may need to log in at the top right with your newly created JSTOR credentials.\n",
    "\n",
    "You’ll see a large search box that says 'build your dataset'.\n",
    "<br>\n",
    "<br>\n",
    "\n",
    "<img style=\"margin-left:50px\" src=\"Images/Grab1BuildDataset.png\" width=\"600px\"/>\n",
    "\n",
    "<br>\n",
    "Drop a term in there on a topic that interests you and start exploring! \n",
    "<br>\n",
    "<br>"
   ]
  },
  {
   "cell_type": "markdown",
   "metadata": {},
   "source": [
    "When you run the search, you’ll go into Constellate's dataset builder with your initial term in the 'keyword' search box. You'll see filters on the left, and some preliminary visualizations on the right.\n",
    "<br>\n",
    "<br>\n",
    "\n",
    "<img style=\"margin-left:50px\" src=\"Images/Grab2SearchTerms.png\" width=\"600px\"/>\n",
    "\n",
    "<br>\n",
    "<br>\n",
    "Experiment with the various filters on the left to narrow the documents on your topic of interest. As you change them, the visualizations on the right will change. There are detailed descriptions of the filters linked in the 'more resources' section at the bottom of this page."
   ]
  },
  {
   "cell_type": "markdown",
   "metadata": {},
   "source": [
    "- Hint: Building a coherent dataset is key to any text analysis. If you're just exploring, ITHAKA recommends building a very tight, subject specific dataset. You can do this with some robust keyword filtering, but you might also want to focus on one or two titles. The publications in Reveal Digital are often very narrow and using one of those publications as a source can provide interesting and informative results."
   ]
  },
  {
   "cell_type": "markdown",
   "metadata": {},
   "source": [
    "The intent behind the visualizations is to give you a peek into your dataset as you're building it so that you can adjust the parameters of your search as you go. But these visualizations can stand alone too! You can download any of the visualizations as images, or download the data behind the visualizations, by selecting the three vertical dots on the top right of each one.  You can also create a shareable URL directly to the visualization from that menu.  \n",
    "<br>\n",
    "<img style=\"margin-left:50px\" src=\"Images/Grab3VizMenu.png\" width=\"600px\"/>"
   ]
  },
  {
   "cell_type": "markdown",
   "metadata": {},
   "source": [
    "<br>\n",
    "<br>\n",
    "Try adding some words into the 'term frequency' visualization to see how prevalent they are in your dataset, and how the usage of those words might change over time.\n",
    "<br>\n",
    "<br>\n",
    "<img style=\"margin-left:50px\" src=\"Images/Grab4TermFreq.png\" width=\"600px\"/>\n"
   ]
  },
  {
   "cell_type": "markdown",
   "metadata": {},
   "source": [
    "<br>\n",
    "<br>\n",
    "At the bottom of the page, you may see some hyperlinked documents from your dataset. \n",
    "<br>\n",
    "<br>\n",
    "<img style=\"margin-left:50px\" src=\"Images/Grab5URLs.png\" width=\"600px\"/>\n",
    "<br>\n",
    "<br>\n",
    "Feel free to click through a URL or two and take a look at the documents.\n",
    "<br>\n",
    "<img style=\"margin-left:50px\" src=\"Images/Grab6Article.png\" width=\"600px\"/>"
   ]
  },
  {
   "cell_type": "markdown",
   "metadata": {},
   "source": [
    "<br>\n",
    "<br>\n",
    "When you’re happy with your configurations and want to save your dataset, go up to the top and select “Build”, then “Confirm”.   \n",
    "<br>\n",
    "<br>\n",
    "<img style=\"margin-left:50px\" src=\"Images/Grab7Build.png\" width=\"600px\"/>\n",
    "<br>\n",
    "<br>\n",
    "Once you build the dataset, you'll notice the page change. You're now looking at your Dataset Dashboard. This is where all the datasets you have created will live. This is going to save your search and give it a unique identifier called a dataset ID so you can easily get back to it again and share it with others.  \n",
    "<br>\n",
    "<br>\n",
    "<img style=\"margin-left:50px\" src=\"Images/Grab8DataSetID.png\" width=\"300px\"/>\n",
    "<br>\n",
    "Note: Your dataset may take some time to build, especially if it's large. You'll know that the build is complete once the 'building in progress' message disappears.\n",
    "<br>\n",
    "<br>\n",
    "You do not need to use either the 'analyze' or the 'download' buttons for this lesson. For reference, 'analyze' lets you pull your dataset into a variety of Jupyter Notebooks created by ITHAKA. 'Download', as you might guess, lets you download your dataset as either a CSV or JSONL file.\n",
    "<br>\n"
   ]
  },
  {
   "cell_type": "markdown",
   "metadata": {},
   "source": [
    "### <font color=red> **Important**: </font> \n",
    "**If you want to use your dataset for the text analysis lesson, you'll want to keep track of your dataset ID. It's a good idea to copy/paste that dataset ID somewhere to ensure that you can return to it later.**"
   ]
  },
  {
   "cell_type": "markdown",
   "metadata": {},
   "source": [
    "\n",
    "**Lesson Complete!**\n",
    "\n",
    "\n",
    "For more detailed work, we're going to pull that dataset you generated into a Jupyter Notebook. You'll learn a bit about how to work in Jupyter Notebooks in the next lesson.\n"
   ]
  },
  {
   "cell_type": "markdown",
   "metadata": {},
   "source": [
    "-----------------------------------------------------------------------\n",
    "**More resources** \n",
    "\n",
    "Constellate QuickStart Guide: https://constellate.org/docs/user-quick-start \n",
    "\n",
    "Detailed descriptions of Constellate's filters: https://constellate.org/docs/filter-in-the-dataset-builder\n",
    "\n",
    "More about Constellate's visualizations: https://constellate.org/docs/all-about-visualizations\n"
   ]
  },
  {
   "cell_type": "markdown",
   "metadata": {},
   "source": [
    "<img align=\"left\" src=\"https://ithaka-labs.s3.amazonaws.com/static-files/images/tdm/tdmdocs/CC_BY.png\"><br/><br/>\n",
    "\n",
    "\n",
    "Created by [Jen Ferguson](https://library.northeastern.edu/about/library-staff-directory/jen-ferguson), based on [the Constellate QuickStart guide](https://constellate.org/docs/user-quick-start) by Amy Kirchhoff of [ITHAKA](https://ithaka.org/). <br />"
   ]
  }
 ],
 "metadata": {
  "kernelspec": {
   "display_name": "Python 3",
   "language": "python",
   "name": "python3"
  },
  "language_info": {
   "codemirror_mode": {
    "name": "ipython",
    "version": 3
   },
   "file_extension": ".py",
   "mimetype": "text/x-python",
   "name": "python",
   "nbconvert_exporter": "python",
   "pygments_lexer": "ipython3",
   "version": "3.8.8"
  }
 },
 "nbformat": 4,
 "nbformat_minor": 4
}
